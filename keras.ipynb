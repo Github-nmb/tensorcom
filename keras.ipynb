{
 "cells": [
  {
   "cell_type": "markdown",
   "metadata": {},
   "source": [
    "# Simple Example of using WebLoader with Keras"
   ]
  },
  {
   "cell_type": "code",
   "execution_count": null,
   "metadata": {},
   "outputs": [],
   "source": [
    "!test -f training.tgz || curl http://storage.googleapis.com/lpr-imagenet-augmented/imagenet_train-0000-000.tgz -o training.tgz\n",
    "!test -f testing.tgz || curl http://storage.googleapis.com/lpr-imagenet-augmented/imagenet_val-0000.tgz -o testing.tgz"
   ]
  },
  {
   "cell_type": "markdown",
   "metadata": {},
   "source": [
    "In a separate window, start the server with:\n",
    "\n",
    "```\n",
    "        serve-imagenet -u training.tgz -b 64\n",
    "```"
   ]
  },
  {
   "cell_type": "code",
   "execution_count": null,
   "metadata": {},
   "outputs": [],
   "source": [
    "from importlib import reload\n",
    "import keras\n",
    "from keras.datasets import cifar10\n",
    "from keras.preprocessing.image import ImageDataGenerator\n",
    "from keras.models import Sequential\n",
    "from keras.layers import Dense, Dropout, Activation, Flatten\n",
    "from keras.layers import Conv2D, MaxPooling2D\n",
    "from keras import models, layers\n",
    "import os\n",
    "import numpy as np\n",
    "import tensorcom as tc\n",
    "from webdataset import WebDataset\n",
    "from webdataset.loader import WebLoader"
   ]
  },
  {
   "cell_type": "code",
   "execution_count": null,
   "metadata": {},
   "outputs": [],
   "source": [
    "mean = np.array([0.485, 0.456, 0.406], \"f\")\n",
    "std = np.array([0.229, 0.224, 0.225], \"f\")\n",
    "def norm_image(xs):\n",
    "    return (xs-mean[None,None,:])/std[None,None,:]\n",
    "def norm_cls(ys):\n",
    "    return keras.utils.to_categorical(ys-1, 1000)"
   ]
  },
  {
   "cell_type": "markdown",
   "metadata": {},
   "source": [
    "We're using the regular DataLoader for the test data set. In fact, it's best just to download the test data set."
   ]
  },
  {
   "cell_type": "code",
   "execution_count": null,
   "metadata": {},
   "outputs": [],
   "source": [
    "#urls = \"http://storage.googleapis.com/lpr-imagenet-augmented/imagenet_val-0000.tgz\"\n",
    "urls = \"testing.tgz\"\n",
    "test_batch_size = 256\n",
    "test_num_batches = 50000//test_batch_size\n",
    "testing_ds = WebDataset(urls, extensions=\"ppm;png;jpg cls\", transforms=[norm_image, norm_cls])\n",
    "testing = WebLoader(testing_ds, batch_size=test_batch_size)\n",
    "xs, ys = next(iter(testing))\n",
    "print(xs.shape, xs.dtype, np.amin(xs), np.amax(xs))\n",
    "print(ys.shape, ys.dtype, np.amin(ys), np.amax(ys))"
   ]
  },
  {
   "cell_type": "markdown",
   "metadata": {},
   "source": [
    "The `Connection` class is similar to the `WebLoader` class, but the decompression and batching happens in the `tensorcom` server process."
   ]
  },
  {
   "cell_type": "code",
   "execution_count": null,
   "metadata": {},
   "outputs": [],
   "source": [
    "#urls = \"http://storage.googleapis.com/lpr-imagenet-augmented/imagenet_train-{0000..0147}-{000..019}.tgz\"\n",
    "num_samples = 1000000\n",
    "training = tc.Connection(\"zsub://127.0.0.1:7880\",\n",
    "                         epoch=num_samples,\n",
    "                         batch_transforms=[norm_image, norm_cls])\n",
    "xs, ys = next(iter(training))\n",
    "print(xs.shape, xs.dtype, np.amin(xs), np.amax(xs))\n",
    "print(ys.shape, ys.dtype, np.amin(ys), np.amax(ys))"
   ]
  },
  {
   "cell_type": "code",
   "execution_count": null,
   "metadata": {},
   "outputs": [],
   "source": [
    "batch_norm = True\n",
    "dropout = 0.5\n",
    "nclasses = 1000\n",
    "shape = (224, 224, 3)\n",
    "batchsize = 32\n",
    "lr = 0.001 # was: 0.0001\n",
    "\n",
    "def vgg_block(d, r=2, name=None, size=(3, 3), mp_size=(2, 2), mp_strides=(2, 2)):\n",
    "    result = []\n",
    "    for i in range(r):\n",
    "        name1 = name + \"-{}\".format(i) if name is not None else None\n",
    "        if batch_norm:\n",
    "            result += [\n",
    "                layers.Conv2D(d, size, padding=\"same\", name=name1),\n",
    "                layers.BatchNormalization(),\n",
    "                layers.Activation(\"relu\")\n",
    "            ]\n",
    "        else:\n",
    "            result += [layers.Conv2D(d, size, activation=\"relu\", padding=\"same\", name=name1)]        \n",
    "    name1 = name + \"-mp\" if name is not None else None\n",
    "    result += [layers.MaxPooling2D(mp_size, mp_strides, name=name1)]\n",
    "    return result\n",
    "\n",
    "model = models.Sequential(\n",
    "    [layers.Lambda(lambda x: x + 0, input_shape=shape)] +         \n",
    "    vgg_block(64, 2) + \n",
    "    vgg_block(128, 2) +\n",
    "    vgg_block(256, 3) +\n",
    "    vgg_block(512, 3) +\n",
    "    vgg_block(512, 3) +\n",
    "    [layers.Flatten(name=\"flatten\"),\n",
    "     layers.Dense(4096, activation=\"relu\", name=\"fc1\"),\n",
    "     layers.Dropout(rate=1-dropout),\n",
    "     layers.Dense(4096, activation=\"relu\", name=\"fc2\"),\n",
    "     layers.Dropout(rate=1-dropout),\n",
    "     layers.Dense(nclasses, activation=\"softmax\", name=\"prediction\")])\n",
    "\n",
    "opt = keras.optimizers.rmsprop(lr=lr, decay=1e-6)\n",
    "\n",
    "model.compile(loss='categorical_crossentropy',\n",
    "              optimizer=opt,\n",
    "              metrics=['accuracy'])\n",
    "\n",
    "model.fit_generator(iter(training),\n",
    "              epochs=1,\n",
    "              steps_per_epoch=1000, #num_batches,\n",
    "              validation_data=iter(testing),\n",
    "              validation_steps=100, #test_num_batches,\n",
    "              shuffle=True)"
   ]
  }
 ],
 "metadata": {
  "kernelspec": {
   "display_name": "Python 3",
   "language": "python",
   "name": "python3"
  },
  "language_info": {
   "codemirror_mode": {
    "name": "ipython",
    "version": 3
   },
   "file_extension": ".py",
   "mimetype": "text/x-python",
   "name": "python",
   "nbconvert_exporter": "python",
   "pygments_lexer": "ipython3",
   "version": "3.7.3"
  }
 },
 "nbformat": 4,
 "nbformat_minor": 4
}
