{
 "cells": [
  {
   "cell_type": "markdown",
   "metadata": {},
   "source": [
    "# Simple Example of using WebLoader with PyTorch"
   ]
  },
  {
   "cell_type": "markdown",
   "metadata": {},
   "source": [
    "In a separate window, start the server with:\n",
    "\n",
    "```\n",
    "        curl http://storage.googleapis.com/lpr-imagenet-augmented/imagenet_train-0000-000.tgz > training.tgz\n",
    "        serve-imagenet -u training.tgz -b 64\n",
    "```\n",
    "\n",
    "Or, if you have a local clone of the entire dataset:\n",
    "\n",
    "```\n",
    "        serve-imagenet -u http://my-server/some-path/imagenet_train-{0000..0147}-{000..019}.tgz\n",
    "```"
   ]
  },
  {
   "cell_type": "code",
   "execution_count": 1,
   "metadata": {},
   "outputs": [],
   "source": [
    "%matplotlib inline"
   ]
  },
  {
   "cell_type": "code",
   "execution_count": 2,
   "metadata": {},
   "outputs": [],
   "source": [
    "from importlib import reload\n",
    "\n",
    "import os\n",
    "import numpy as np\n",
    "\n",
    "import torch\n",
    "import torch.nn as nn\n",
    "import torch.nn.parallel\n",
    "import torch.backends.cudnn as cudnn\n",
    "import torch.distributed as dist\n",
    "import torch.optim\n",
    "from torchvision import models\n",
    "\n",
    "import webloader as wl\n",
    "import tensorcom as tc\n",
    "\n",
    "from IPython import display\n",
    "import matplotlib.pyplot as plt\n"
   ]
  },
  {
   "cell_type": "code",
   "execution_count": 3,
   "metadata": {},
   "outputs": [],
   "source": [
    "mean = np.array([0.485, 0.456, 0.406], \"f\")\n",
    "std = np.array([0.229, 0.224, 0.225], \"f\")\n",
    "def norm_image(xs):\n",
    "    return (xs-mean[None,None,None,:])/std[None,None,None,:]\n",
    "def norm_cls(ys):\n",
    "    ys = ys.astype(np.int64)\n",
    "    return ys-1"
   ]
  },
  {
   "cell_type": "code",
   "execution_count": 4,
   "metadata": {},
   "outputs": [
    {
     "name": "stdout",
     "output_type": "stream",
     "text": [
      "torch.Size([64, 3, 224, 224]) torch.float32 -2.1179039478302 1136.357177734375\n",
      "torch.Size([64]) torch.int64 39 980\n"
     ]
    }
   ],
   "source": [
    "#urls = \"http://storage.googleapis.com/lpr-imagenet-augmented/imagenet_train-{0000..0147}-{000..019}.tgz\"\n",
    "num_samples = 1000000\n",
    "training = tc.Connection(\"zsub://127.0.0.1:7880\",\n",
    "                         epoch=num_samples,\n",
    "                         batch_transforms=[norm_image, norm_cls],\n",
    "                         converters=\"torch\")\n",
    "xs, ys = next(iter(training))\n",
    "print(xs.shape, xs.dtype, xs.min().item(), xs.max().item())\n",
    "print(ys.shape, ys.dtype, ys.min().item(), ys.max().item())"
   ]
  },
  {
   "cell_type": "code",
   "execution_count": 5,
   "metadata": {},
   "outputs": [],
   "source": [
    "model = models.resnet50()\n",
    "criterion = nn.CrossEntropyLoss().cuda()\n",
    "optimizer = torch.optim.SGD(model.parameters(), 0.0001, momentum=0.9, weight_decay=0.0)"
   ]
  },
  {
   "cell_type": "code",
   "execution_count": 6,
   "metadata": {},
   "outputs": [
    {
     "data": {
      "image/png": "[encoded data removed]",
      "text/plain": [
       "<matplotlib.figure.Figure at 0x7fa18b3ed550>"
      ]
     },
     "metadata": {
      "needs_background": "light"
     },
     "output_type": "display_data"
    }
   ],
   "source": [
    "def rtplot(ys, xs=None, sigma=20, fig=None):\n",
    "    fig = fig or plt.gcf()\n",
    "    fig.clf()\n",
    "    fig.add_subplot(1, 1, 1)\n",
    "    ax = fig.get_axes()[0]\n",
    "    ax.cla()\n",
    "    from scipy.ndimage import filters\n",
    "    ys = filters.gaussian_filter(np.array(ys, \"f\"), sigma, mode=\"nearest\")\n",
    "    if xs is not None:\n",
    "        plt.plot(xs, ys)\n",
    "    else:\n",
    "        plt.plot(ys)\n",
    "    display.clear_output(wait=True)\n",
    "    display.display(fig)\n",
    "        \n",
    "def train_for(steps, losses=[]):\n",
    "    model.cuda()\n",
    "    model.train()\n",
    "    for i, (input, target) in enumerate(training):\n",
    "        if i>=steps: break\n",
    "        output = model(input.cuda())\n",
    "        loss = criterion(output, target.cuda())\n",
    "        losses.append(loss.item())\n",
    "        rtplot(losses)\n",
    "        optimizer.zero_grad()\n",
    "        loss.backward()\n",
    "        optimizer.step()\n",
    "    display.clear_output(wait=True)\n",
    "        \n",
    "train_for(10000)"
   ]
  },
  {
   "cell_type": "code",
   "execution_count": null,
   "metadata": {},
   "outputs": [],
   "source": []
  }
 ],
 "metadata": {
  "kernelspec": {
   "display_name": "Python 3",
   "language": "python",
   "name": "python3"
  },
  "language_info": {
   "codemirror_mode": {
    "name": "ipython",
    "version": 3
   },
   "file_extension": ".py",
   "mimetype": "text/x-python",
   "name": "python",
   "nbconvert_exporter": "python",
   "pygments_lexer": "ipython3",
   "version": "3.6.8"
  }
 },
 "nbformat": 4,
 "nbformat_minor": 4
}
