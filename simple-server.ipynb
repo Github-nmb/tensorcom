{
 "cells": [
  {
   "cell_type": "markdown",
   "metadata": {},
   "source": [
    "# Tensorcom Data Server\n",
    "\n",
    "This illustrates transmitting a training set via tensorcom. Here, we use a standard Torch `Dataloader` as a data source."
   ]
  },
  {
   "cell_type": "code",
   "execution_count": 1,
   "metadata": {},
   "outputs": [],
   "source": [
    "import sys\n",
    "import torch\n",
    "from torchvision import datasets, transforms\n",
    "import numpy as np\n",
    "import tensorcom"
   ]
  },
  {
   "cell_type": "code",
   "execution_count": 2,
   "metadata": {},
   "outputs": [],
   "source": [
    "loader = torch.utils.data.DataLoader(\n",
    "    datasets.MNIST('.', train=True, download=True,\n",
    "                   transform=transforms.Compose([\n",
    "                       transforms.ToTensor(),\n",
    "                       transforms.Normalize((0.1307,), (0.3081,))\n",
    "                   ])),\n",
    "    batch_size=32, shuffle=True)"
   ]
  },
  {
   "cell_type": "markdown",
   "metadata": {},
   "source": [
    "We use simple URLs with `zpub`, `zsub`, `zpush`, and `zpull` schemas for making ZMQ connections. There are also reverse versions `zr...`, which reverse the connect/bind schemes.\n",
    "\n",
    "Here we use a ZMQ PUB socket for distributing data. Such a socket will send data asynchronously, whether clients are connected or not."
   ]
  },
  {
   "cell_type": "code",
   "execution_count": 3,
   "metadata": {},
   "outputs": [],
   "source": [
    "serve = tensorcom.Connection()\n",
    "serve.connect(\"zpub://127.0.0.1:7888\")"
   ]
  },
  {
   "cell_type": "markdown",
   "metadata": {},
   "source": [
    "In this sample library, all tensors are represented as NumPy arrays, so we have to convert the PyTorch tensors to NumPy before sending.\n",
    "\n",
    "For many application, sending floating point data in `float16` format is sufficient and potentially faster when networking is involved."
   ]
  },
  {
   "cell_type": "code",
   "execution_count": 4,
   "metadata": {},
   "outputs": [
    {
     "name": "stderr",
     "output_type": "stream",
     "text": [
      "0 1 2 3 4 "
     ]
    }
   ],
   "source": [
    "for epoch in range(5):\n",
    "    sys.stderr.write(\"{} \".format(epoch))\n",
    "    for i, (xs, ys) in enumerate(loader):\n",
    "        xs = np.array(xs).astype('float16')\n",
    "        ys = np.array(ys).astype('int32')\n",
    "        serve.send([xs, ys])"
   ]
  },
  {
   "cell_type": "markdown",
   "metadata": {},
   "source": [
    "Note that to achieve higher data rates, you can start up multiple publishers and then connect to them from a single training job."
   ]
  },
  {
   "cell_type": "markdown",
   "metadata": {},
   "source": [
    "Note also that, under the covers, PyTorch's parallel `Dataloader` functions very similarly to this approach; it also uses multiple processes and IPC for loading data asynchronously. However, by making the communication explicit with Tensorcom, we can use the same preprocessing pipelines for PyTorch and TensorFlow, and we can also share training data between multiple jobs.\n",
    "\n",
    "Also note that you can use any data loading and augmentation framework you like in the sender, and combine it with any DL framework. In particular, you can use PyTorch `Dataset`/`DataLoader`, you can use TensorFlow input pipelines, and you can use the `dlinputs` framework."
   ]
  },
  {
   "cell_type": "code",
   "execution_count": null,
   "metadata": {},
   "outputs": [],
   "source": []
  }
 ],
 "metadata": {
  "kernelspec": {
   "display_name": "Python 3",
   "language": "python",
   "name": "python3"
  },
  "language_info": {
   "codemirror_mode": {
    "name": "ipython",
    "version": 3
   },
   "file_extension": ".py",
   "mimetype": "text/x-python",
   "name": "python",
   "nbconvert_exporter": "python",
   "pygments_lexer": "ipython3",
   "version": "3.6.7"
  }
 },
 "nbformat": 4,
 "nbformat_minor": 2
}
