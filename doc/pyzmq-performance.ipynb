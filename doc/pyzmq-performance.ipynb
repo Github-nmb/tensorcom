{
 "cells": [
  {
   "cell_type": "code",
   "execution_count": 1,
   "metadata": {},
   "outputs": [
    {
     "name": "stdout",
     "output_type": "stream",
     "text": [
      "Populating the interactive namespace from numpy and matplotlib\n"
     ]
    }
   ],
   "source": [
    "%pylab inline"
   ]
  },
  {
   "cell_type": "code",
   "execution_count": 2,
   "metadata": {},
   "outputs": [],
   "source": [
    "import numpy as np\n",
    "import zmq\n",
    "import subprocess\n",
    "from subprocess import Popen"
   ]
  },
  {
   "cell_type": "code",
   "execution_count": 3,
   "metadata": {},
   "outputs": [],
   "source": [
    "data = np.ones((256, 3, 224, 224), dtype=np.float16)\n",
    "bin = data.tobytes()"
   ]
  },
  {
   "cell_type": "code",
   "execution_count": 4,
   "metadata": {},
   "outputs": [
    {
     "name": "stdout",
     "output_type": "stream",
     "text": [
      "Overwriting server.py\n"
     ]
    }
   ],
   "source": [
    "%%writefile server.py\n",
    "import numpy as np\n",
    "import zmq\n",
    "data = np.ones((256, 3, 224, 224), dtype=np.float16)\n",
    "bindata = data.tobytes()\n",
    "context = zmq.Context()\n",
    "socket = context.socket(zmq.PUSH)\n",
    "socket.bind(\"tcp://*:7988\")\n",
    "for i in range(10000):\n",
    "    socket.send(bindata)"
   ]
  },
  {
   "cell_type": "code",
   "execution_count": 5,
   "metadata": {},
   "outputs": [],
   "source": [
    "proc = Popen([\"python3\", \"server.py\"])\n",
    "proc.poll()"
   ]
  },
  {
   "cell_type": "code",
   "execution_count": 6,
   "metadata": {},
   "outputs": [
    {
     "name": "stdout",
     "output_type": "stream",
     "text": [
      "0 77070336\n",
      "10 77070336\n",
      "20 77070336\n",
      "30 77070336\n",
      "40 77070336\n",
      "50 77070336\n",
      "60 77070336\n",
      "70 77070336\n",
      "80 77070336\n",
      "90 77070336\n",
      "7707.0336\n",
      "CPU times: user 1.3 s, sys: 8.64 s, total: 9.94 s\n",
      "Wall time: 6.13 s\n"
     ]
    }
   ],
   "source": [
    "%%time\n",
    "context = zmq.Context()\n",
    "socket = context.socket(zmq.PULL)\n",
    "socket.connect(\"tcp://127.0.0.1:7988\")\n",
    "total = 0\n",
    "for i in range(100):\n",
    "    data = socket.recv()\n",
    "    total += len(data)\n",
    "    if i%10==0: print(i, len(data))\n",
    "print(total/1e6)\n",
    "del socket\n",
    "proc.terminate()\n",
    "proc.wait()"
   ]
  },
  {
   "cell_type": "code",
   "execution_count": 7,
   "metadata": {},
   "outputs": [],
   "source": [
    "proc = Popen([\"python3\", \"server.py\"])\n",
    "proc.poll()"
   ]
  },
  {
   "cell_type": "code",
   "execution_count": 8,
   "metadata": {},
   "outputs": [
    {
     "name": "stdout",
     "output_type": "stream",
     "text": [
      "0 38535168\n",
      "10 38535168\n",
      "20 38535168\n",
      "30 38535168\n",
      "40 38535168\n",
      "50 38535168\n",
      "60 38535168\n",
      "70 38535168\n",
      "80 38535168\n",
      "90 38535168\n",
      "3853.5168\n",
      "CPU times: user 1.36 s, sys: 8.76 s, total: 10.1 s\n",
      "Wall time: 6.38 s\n"
     ]
    }
   ],
   "source": [
    "%%time\n",
    "context = zmq.Context()\n",
    "socket = context.socket(zmq.PULL)\n",
    "socket.connect(\"tcp://127.0.0.1:7988\")\n",
    "total = 0\n",
    "for i in range(100):\n",
    "    data = socket.recv()\n",
    "    a = np.frombuffer(data, dtype=np.float16).reshape(256, 3, 224, 224)\n",
    "    if i%10==0: print(i, a.size)\n",
    "    total += a.size\n",
    "print(total/1e6)\n",
    "del socket\n",
    "proc.terminate()\n",
    "proc.wait()"
   ]
  },
  {
   "cell_type": "code",
   "execution_count": 9,
   "metadata": {},
   "outputs": [],
   "source": [
    "proc = Popen([\"python3\", \"server.py\"])\n",
    "proc.poll()"
   ]
  }
 ],
 "metadata": {
  "kernelspec": {
   "display_name": "Python 3",
   "language": "python",
   "name": "python3"
  },
  "language_info": {
   "codemirror_mode": {
    "name": "ipython",
    "version": 3
   },
   "file_extension": ".py",
   "mimetype": "text/x-python",
   "name": "python",
   "nbconvert_exporter": "python",
   "pygments_lexer": "ipython3",
   "version": "3.6.7"
  }
 },
 "nbformat": 4,
 "nbformat_minor": 2
}
